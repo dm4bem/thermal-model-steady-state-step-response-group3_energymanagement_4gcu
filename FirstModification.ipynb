{
 "cells": [
  {
   "cell_type": "markdown",
   "id": "6fc7f5ab-4f7c-4561-b71a-fa5772fb2363",
   "metadata": {},
   "source": [
    "# First modification of the thermal model : air capacity neglicted"
   ]
  },
  {
   "cell_type": "markdown",
   "id": "10652a5c-4f72-4651-8662-beee0dacdff2",
   "metadata": {
    "tags": []
   },
   "source": [
    "\n",
    "We wanted to see how neglecting the air capacity of the glass would affect the maximum time step of the calculation. steady state ?\n",
    "\n",
    "We tried to neglect the capacity of the air by changing the command \" neglect_air_glass = False \" by \"neglect_air_glass = True\" \n",
    "With the first model, the maximum time step is equal to 8 minutes, and it reaches 159 minutes when the capacity of the air is neglected : it's 20 times bigger, so the calculation will bne a lot faster.\n",
    "\n",
    "In our study, we are interested in annual energy performances of the thermal model. If we were interested in comfort, we would need to use a time step of a few minutes, but in the case of an annual study, it is preferable to start from an assumption that allows us to use a higher time step without losing data.\n"
   ]
  },
  {
   "cell_type": "code",
   "execution_count": null,
   "id": "cc707cf7",
   "metadata": {
    "tags": []
   },
   "outputs": [],
   "source": [
    "neglect_air_glass = True\n",
    "\n",
    "if neglect_air_glass:\n",
    "    C = np.array([0, C['Layer_out'], 0, C['Layer_in'], 0, 0,\n",
    "                  0, 0])\n",
    "else:\n",
    "    C = np.array([0, C['Layer_out'], 0, C['Layer_in'], 0, 0,\n",
    "                  C['Air'], C['Glass']])\n"
   ]
  },
  {
   "cell_type": "code",
   "execution_count": null,
   "id": "1b1e2c02-f524-4496-976c-f73be45da4a2",
   "metadata": {},
   "outputs": [],
   "source": []
  },
  {
   "cell_type": "code",
   "execution_count": null,
   "id": "c109a2de-0a04-49a7-84d0-76fa999a2856",
   "metadata": {},
   "outputs": [],
   "source": []
  }
 ],
 "metadata": {
  "kernelspec": {
   "display_name": "Python 3 (ipykernel)",
   "language": "python",
   "name": "python3"
  },
  "language_info": {
   "codemirror_mode": {
    "name": "ipython",
    "version": 3
   },
   "file_extension": ".py",
   "mimetype": "text/x-python",
   "name": "python",
   "nbconvert_exporter": "python",
   "pygments_lexer": "ipython3",
   "version": "3.11.5"
  }
 },
 "nbformat": 4,
 "nbformat_minor": 5
}
