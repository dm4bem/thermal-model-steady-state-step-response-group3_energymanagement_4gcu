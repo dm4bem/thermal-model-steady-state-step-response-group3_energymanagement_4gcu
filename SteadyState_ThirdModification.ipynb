{
 "cells": [
  {
   "cell_type": "markdown",
   "id": "bf4bdff8",
   "metadata": {},
   "source": [
    "# Third modification"
   ]
  },
  {
   "cell_type": "markdown",
   "id": "cc0a934d",
   "metadata": {},
   "source": [
    "For this last modification, we wanted to add a controller to the thermal model. Before adding the controller, we had these values : \n",
    "\n",
    "θssQ = [ 0.14  0.39  0.65  5.88 11.12  5.57 12.26  4.41] °C\n"
   ]
  },
  {
   "cell_type": "code",
   "execution_count": null,
   "id": "0c36e45c",
   "metadata": {},
   "outputs": [],
   "source": [
    "controller =True\n",
    "explicit_Euler = False\n",
    "imposed_time_step = False\n",
    "Δt = 3600    # s, imposed time step \n",
    "\n",
    "print('Matrices and vectors for thermal circuit from Figure 1') \n",
    "#pd.read_csv('./toy_model/TC_0.csv')\n",
    "\n",
    "# MODEL\n",
    "# =====\n",
    "# Thermal circuit\n",
    "#TC = dm4bem.file2TC('./toy_model/TC.csv', name='', auto_number=False)\n",
    "\n",
    "# by default TC['G']['q11'] = 0, i.e. Kp -> 0, no controller (free-floating)\n",
    "if controller:\n",
    "    TC['G']['q11'] = 1e4       \n",
    "    "
   ]
  },
  {
   "cell_type": "markdown",
   "id": "df0e74cb",
   "metadata": {},
   "source": [
    "\n",
    "θss = [10.11 10.32 10.52 14.76 19. 14.5  19.92 13.57] °C"
   ]
  },
  {
   "cell_type": "markdown",
   "id": "2283f469",
   "metadata": {},
   "source": [
    "Including in our model a controller with a constant heat inflow increases logically the inside temperatures. It's important to notice that we imposed a constant flow and not an adapted flow which would fix the inside temperatures (set-point). \n",
    "\n",
    "With setting the Kp to the infinity, we would have a perfect controller, which means that the set-point temperatures would be reached and the necessary heat flow could be determined. "
   ]
  }
 ],
 "metadata": {
  "kernelspec": {
   "display_name": "Python 3 (ipykernel)",
   "language": "python",
   "name": "python3"
  },
  "language_info": {
   "codemirror_mode": {
    "name": "ipython",
    "version": 3
   },
   "file_extension": ".py",
   "mimetype": "text/x-python",
   "name": "python",
   "nbconvert_exporter": "python",
   "pygments_lexer": "ipython3",
   "version": "3.11.5"
  }
 },
 "nbformat": 4,
 "nbformat_minor": 5
}
